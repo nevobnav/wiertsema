{
 "cells": [
  {
   "cell_type": "code",
   "execution_count": 1,
   "metadata": {},
   "outputs": [],
   "source": [
    "import pandas as pd\n",
    "import geopandas as gpd\n",
    "import matplotlib.pyplot as plt\n",
    "import numpy as np\n",
    "import math\n",
    "import os\n",
    "from shapely.geometry import Point\n",
    "\n",
    "%matplotlib inline\n",
    "\n",
    "pd.options.mode.chained_assignment = None\n"
   ]
  },
  {
   "cell_type": "code",
   "execution_count": 2,
   "metadata": {},
   "outputs": [],
   "source": [
    "input_folder = \"/Users/kazv/VanBovenDrive/VanBoven MT/500 Projects/P2 Wiertsema/data/Sonderingen/Sonderingen MOS/\"\n",
    "file_list = os.listdir(input_folder)\n",
    "valid_files = [x for x in file_list if x.endswith('.gef')]\n"
   ]
  },
  {
   "cell_type": "code",
   "execution_count": 22,
   "metadata": {},
   "outputs": [],
   "source": [
    "def gdf_from_gef(GEF):\n",
    "    #Read lines\n",
    "    with open(GEF, 'r', encoding='utf-8',errors='ignore') as fdata:\n",
    "        contents = fdata.readlines()\n",
    "    \n",
    "    #Get info from GEF file metadata\n",
    "    columnsep = [s for s in contents if \"#COLUMNSEPARATOR\" in s][0].split(' ')[1][0]\n",
    "    XYID = [s for s in contents if \"#XYID\" in s][0].split(' ')\n",
    "    x = float(XYID[2][:-1])\n",
    "    y = float(XYID[3][:-1])\n",
    "\n",
    "    EOH_line = [s for s in contents if \"#EOH=\" in s] #Last line before data starts\n",
    "    start_line = contents.index(EOH_line[0])+1#line where data starts\n",
    "\n",
    "    #Create dataframe from GEF file\n",
    "    \n",
    "    df = pd.DataFrame(x.split(columnsep) for x in contents[start_line::])\n",
    "    #Drop last column, which only holds line seperators\n",
    "    df.drop(df.columns[len(df.columns)-1], axis=1, inplace=True)\n",
    "    \n",
    "    #Set column names\n",
    "    col_info = [s for s in contents if \"#COLUMNINFO= \" in s]\n",
    "    cols = []\n",
    "    for info in col_info:\n",
    "        info_split = info.split(',')\n",
    "        unit = info_split[1].strip()\n",
    "        quantity = info_split[2].strip()\n",
    "        col_name = quantity+' [{}]'.format(unit)\n",
    "        cols.append(col_name)\n",
    "    df.columns = cols\n",
    "    df = df[cols].apply(pd.to_numeric, errors='coerce')\n",
    "    \n",
    "    #Convert to GeoDataFrame and add geometry\n",
    "    gdf = gpd.GeoDataFrame(df)\n",
    "    gdf.crs = {'init': 'epsg:28992'}\n",
    "    gdf['geometry']= Point(x,y)\n",
    "    \n",
    "    return gdf\n"
   ]
  },
  {
   "cell_type": "code",
   "execution_count": 23,
   "metadata": {},
   "outputs": [],
   "source": [
    "gdf = gpd.GeoDataFrame([])\n",
    "for file in valid_files:\n",
    "    GEF = os.path.join(input_folder, file)\n",
    "    gdf_new = gdf_from_gef(GEF)\n",
    "    gdf = gdf.append(gdf_new, sort=False)\n",
    "    \n"
   ]
  },
  {
   "cell_type": "code",
   "execution_count": 24,
   "metadata": {},
   "outputs": [
    {
     "name": "stderr",
     "output_type": "stream",
     "text": [
      "/Users/kazv/miniconda3/envs/wiertsema/lib/python3.7/site-packages/geopandas/io/file.py:108: FionaDeprecationWarning: Use fiona.Env() instead.\n",
      "  with fiona.drivers():\n"
     ]
    }
   ],
   "source": [
    "output_file = \"/Users/kazv/VanBovenDrive/VanBoven MT/500 Projects/P2 Wiertsema/data/GEF_output.shp\"\n",
    "gdf.to_file(driver = 'ESRI Shapefile', filename = output_file)"
   ]
  },
  {
   "cell_type": "code",
   "execution_count": null,
   "metadata": {},
   "outputs": [],
   "source": []
  }
 ],
 "metadata": {
  "kernelspec": {
   "display_name": "Py Wiertsema",
   "language": "python",
   "name": "wiertsema"
  },
  "language_info": {
   "codemirror_mode": {
    "name": "ipython",
    "version": 3
   },
   "file_extension": ".py",
   "mimetype": "text/x-python",
   "name": "python",
   "nbconvert_exporter": "python",
   "pygments_lexer": "ipython3",
   "version": "3.7.3"
  }
 },
 "nbformat": 4,
 "nbformat_minor": 2
}
