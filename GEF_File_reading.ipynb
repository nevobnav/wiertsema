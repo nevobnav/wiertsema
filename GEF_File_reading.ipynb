{
 "cells": [
  {
   "cell_type": "code",
   "execution_count": 1,
   "metadata": {},
   "outputs": [],
   "source": [
    "import pandas as pd\n",
    "import geopandas as gpd\n",
    "import matplotlib.pyplot as plt\n",
    "import numpy as np\n",
    "import math\n",
    "import os\n",
    "from shapely.geometry import Point\n",
    "\n",
    "%matplotlib inline\n",
    "\n",
    "pd.options.mode.chained_assignment = None\n"
   ]
  },
  {
   "cell_type": "code",
   "execution_count": 2,
   "metadata": {},
   "outputs": [],
   "source": [
    "#to do:\n",
    "\n",
    "input_folder = \"/Users/kazv/VanBovenDrive/VanBoven MT/500 Projects/P2 Wiertsema/data/Sonderingen/Sonderingen MOS/\"\n",
    "file_list = os.listdir(input_folder)\n",
    "valid_files = [x for x in file_list if x.endswith('.gef')]\n"
   ]
  },
  {
   "cell_type": "code",
   "execution_count": 5,
   "metadata": {},
   "outputs": [],
   "source": [
    "GEF = os.path.join(input_folder, valid_files[3])\n",
    "with open(GEF, 'r', encoding='utf-8',errors='ignore') as fdata:\n",
    "        contents = fdata.readlines()\n",
    "    \n",
    "#Get info from GEF file metadata\n",
    "columnsep = [s for s in contents if \"#COLUMNSEPARATOR\" in s][0].split(' ')[1][0]\n",
    "XYID = [s for s in contents if \"#XYID\" in s][0].split(' ')\n",
    "x = float(XYID[2][:-1])\n",
    "y = float(XYID[3][:-1])\n",
    "\n",
    "EOH_line = [s for s in contents if \"#EOH=\" in s] #Last line before data starts\n",
    "start_line = contents.index(EOH_line[0])+1#line where data starts\n"
   ]
  },
  {
   "cell_type": "code",
   "execution_count": 11,
   "metadata": {},
   "outputs": [],
   "source": [
    "contents\n"
   ]
  },
  {
   "cell_type": "code",
   "execution_count": 12,
   "metadata": {},
   "outputs": [
    {
     "data": {
      "text/plain": [
       "4.2"
      ]
     },
     "execution_count": 12,
     "metadata": {},
     "output_type": "execute_result"
    }
   ],
   "source": []
  },
  {
   "cell_type": "code",
   "execution_count": 120,
   "metadata": {},
   "outputs": [],
   "source": [
    "def gdf_from_gef(GEF):\n",
    "    #Read lines\n",
    "    with open(GEF, 'r', encoding='utf-8',errors='ignore') as fdata:\n",
    "        contents = fdata.readlines()\n",
    "    \n",
    "    #Get info from GEF file metadata\n",
    "    columnsep = [s for s in contents if \"#COLUMNSEPARATOR\" in s][0].split(' ')[1][0]\n",
    "    XYID = [s for s in contents if \"#XYID\" in s][0].split(' ')\n",
    "    ZID = [s for s in contents if \"#ZID\" in s][0].split(' ')\n",
    "    x = float(XYID[2][:-1])\n",
    "    y = float(XYID[3][:-1])\n",
    "    AHN_height = float(ZID[2][:-1])\n",
    "    \n",
    "    test_ID = [s for s in contents if \"#TESTID\" in s][0].split('=')[1][1:-1]\n",
    "    EOH_line = [s for s in contents if \"#EOH=\" in s] #Last line before data starts\n",
    "    start_line = contents.index(EOH_line[0])+1#line where data starts\n",
    "\n",
    "    #Create dataframe from GEF file\n",
    "    \n",
    "    df = pd.DataFrame(x.split(columnsep) for x in contents[start_line::])\n",
    "    #Drop last column, which only holds line seperators\n",
    "    df.drop(df.columns[len(df.columns)-1], axis=1, inplace=True)\n",
    "    \n",
    "    \n",
    "    #Set column names\n",
    "    col_info = [s for s in contents if \"#COLUMNINFO= \" in s]\n",
    "    col_void_info = [s for s in contents if \"COLUMNVOID= \" in s]\n",
    "    col_void = float(col_void_info[0].split(',')[1])#assuming column voids are always constant\n",
    "    \n",
    "    cols = []\n",
    "    for info in col_info:\n",
    "        info_split = info.split(',')\n",
    "        unit = info_split[1].strip()\n",
    "        quantity = info_split[2].strip()\n",
    "        col_name = quantity+' [{}]'.format(unit)\n",
    "        cols.append(col_name)\n",
    "    \n",
    "    df.columns = cols\n",
    "    \n",
    "    #Make all values numeric, instead of strings\n",
    "    df = df[cols].apply(pd.to_numeric, errors='coerce')\n",
    "    \n",
    "    #Add test_ID column (can be used later for grouping purposes on measurement location)\n",
    "    df['TESTID'] = test_ID\n",
    "    \n",
    "    #Add thickness based on Sondeerlengte\n",
    "    df['Dikte [m]']=df['Sondeerlengte [m]'].diff(1)\n",
    "    \n",
    "    \n",
    "    #Get AHN height of sondeersection bottom\n",
    "    df['AHN'] = AHN_height - df['Gecorrigeerde diepte [m]']\n",
    "    \n",
    "    #Remove void values and replace by nans\n",
    "    df = df.replace(col_void, float('nan'))\n",
    "    \n",
    "    #Convert to GeoDataFrame and add geometry\n",
    "    gdf = gpd.GeoDataFrame(df)\n",
    "    gdf.crs = {'init': 'epsg:28992'}\n",
    "    gdf['geometry']= Point(x,y)\n",
    "    \n",
    "    return gdf\n"
   ]
  },
  {
   "cell_type": "code",
   "execution_count": 131,
   "metadata": {},
   "outputs": [],
   "source": [
    "gdf = gpd.GeoDataFrame([])\n",
    "for file in valid_files:\n",
    "    GEF = os.path.join(input_folder, file)\n",
    "    gdf_new = gdf_from_gef(GEF)\n",
    "    gdf = gdf.append(gdf_new, sort=False)\n",
    "#gdf.reset_index(inplace=True) <-- dit levert gedoe op\n",
    "\n",
    "    \n"
   ]
  },
  {
   "cell_type": "code",
   "execution_count": 147,
   "metadata": {},
   "outputs": [
    {
     "data": {
      "text/html": [
       "<div>\n",
       "<style scoped>\n",
       "    .dataframe tbody tr th:only-of-type {\n",
       "        vertical-align: middle;\n",
       "    }\n",
       "\n",
       "    .dataframe tbody tr th {\n",
       "        vertical-align: top;\n",
       "    }\n",
       "\n",
       "    .dataframe thead th {\n",
       "        text-align: right;\n",
       "    }\n",
       "</style>\n",
       "<table border=\"1\" class=\"dataframe\">\n",
       "  <thead>\n",
       "    <tr style=\"text-align: right;\">\n",
       "      <th></th>\n",
       "      <th>Sondeerlengte [m]</th>\n",
       "      <th>Conusweerstand [MPa]</th>\n",
       "      <th>Gecorrigeerde conusweerstand [MPa]</th>\n",
       "      <th>Plaatselijke wrijving [MPa]</th>\n",
       "      <th>Wrijvingsgetal [%]</th>\n",
       "      <th>Waterspanning u2 [MPa]</th>\n",
       "      <th>Helling [Graden]</th>\n",
       "      <th>Elektrische geleidbaarheid [S/m]</th>\n",
       "      <th>Gecorrigeerde diepte [m]</th>\n",
       "      <th>TESTID</th>\n",
       "      <th>Dikte [m]</th>\n",
       "      <th>AHN</th>\n",
       "      <th>geometry</th>\n",
       "      <th>Helling N-Z [Graden]</th>\n",
       "      <th>Helling O-W [Graden]</th>\n",
       "    </tr>\n",
       "  </thead>\n",
       "  <tbody>\n",
       "    <tr>\n",
       "      <th>0</th>\n",
       "      <td>0.00</td>\n",
       "      <td>NaN</td>\n",
       "      <td>NaN</td>\n",
       "      <td>NaN</td>\n",
       "      <td>NaN</td>\n",
       "      <td>NaN</td>\n",
       "      <td>NaN</td>\n",
       "      <td>NaN</td>\n",
       "      <td>0.00</td>\n",
       "      <td>CPTU G20.0 + 40BITE</td>\n",
       "      <td>NaN</td>\n",
       "      <td>1.64</td>\n",
       "      <td>POINT (81527.31 425532.27)</td>\n",
       "      <td>NaN</td>\n",
       "      <td>NaN</td>\n",
       "    </tr>\n",
       "    <tr>\n",
       "      <th>1</th>\n",
       "      <td>0.01</td>\n",
       "      <td>0.095</td>\n",
       "      <td>0.095</td>\n",
       "      <td>0.006</td>\n",
       "      <td>1.274</td>\n",
       "      <td>0.001</td>\n",
       "      <td>0.288</td>\n",
       "      <td>0.010</td>\n",
       "      <td>0.01</td>\n",
       "      <td>CPTU G20.0 + 40BITE</td>\n",
       "      <td>0.01</td>\n",
       "      <td>1.63</td>\n",
       "      <td>POINT (81527.31 425532.27)</td>\n",
       "      <td>NaN</td>\n",
       "      <td>NaN</td>\n",
       "    </tr>\n",
       "    <tr>\n",
       "      <th>2</th>\n",
       "      <td>0.03</td>\n",
       "      <td>0.176</td>\n",
       "      <td>0.176</td>\n",
       "      <td>0.004</td>\n",
       "      <td>0.601</td>\n",
       "      <td>0.004</td>\n",
       "      <td>0.953</td>\n",
       "      <td>0.010</td>\n",
       "      <td>0.03</td>\n",
       "      <td>CPTU G20.0 + 40BITE</td>\n",
       "      <td>0.02</td>\n",
       "      <td>1.61</td>\n",
       "      <td>POINT (81527.31 425532.27)</td>\n",
       "      <td>NaN</td>\n",
       "      <td>NaN</td>\n",
       "    </tr>\n",
       "    <tr>\n",
       "      <th>3</th>\n",
       "      <td>0.05</td>\n",
       "      <td>0.586</td>\n",
       "      <td>0.586</td>\n",
       "      <td>0.008</td>\n",
       "      <td>1.039</td>\n",
       "      <td>0.001</td>\n",
       "      <td>0.282</td>\n",
       "      <td>0.006</td>\n",
       "      <td>0.05</td>\n",
       "      <td>CPTU G20.0 + 40BITE</td>\n",
       "      <td>0.02</td>\n",
       "      <td>1.59</td>\n",
       "      <td>POINT (81527.31 425532.27)</td>\n",
       "      <td>NaN</td>\n",
       "      <td>NaN</td>\n",
       "    </tr>\n",
       "    <tr>\n",
       "      <th>4</th>\n",
       "      <td>0.07</td>\n",
       "      <td>1.047</td>\n",
       "      <td>1.047</td>\n",
       "      <td>0.008</td>\n",
       "      <td>0.856</td>\n",
       "      <td>0.001</td>\n",
       "      <td>0.663</td>\n",
       "      <td>0.006</td>\n",
       "      <td>0.07</td>\n",
       "      <td>CPTU G20.0 + 40BITE</td>\n",
       "      <td>0.02</td>\n",
       "      <td>1.57</td>\n",
       "      <td>POINT (81527.31 425532.27)</td>\n",
       "      <td>NaN</td>\n",
       "      <td>NaN</td>\n",
       "    </tr>\n",
       "  </tbody>\n",
       "</table>\n",
       "</div>"
      ],
      "text/plain": [
       "   Sondeerlengte [m]  Conusweerstand [MPa]  \\\n",
       "0               0.00                   NaN   \n",
       "1               0.01                 0.095   \n",
       "2               0.03                 0.176   \n",
       "3               0.05                 0.586   \n",
       "4               0.07                 1.047   \n",
       "\n",
       "   Gecorrigeerde conusweerstand [MPa]  Plaatselijke wrijving [MPa]  \\\n",
       "0                                 NaN                          NaN   \n",
       "1                               0.095                        0.006   \n",
       "2                               0.176                        0.004   \n",
       "3                               0.586                        0.008   \n",
       "4                               1.047                        0.008   \n",
       "\n",
       "   Wrijvingsgetal [%]  Waterspanning u2 [MPa]  Helling [Graden]  \\\n",
       "0                 NaN                     NaN               NaN   \n",
       "1               1.274                   0.001             0.288   \n",
       "2               0.601                   0.004             0.953   \n",
       "3               1.039                   0.001             0.282   \n",
       "4               0.856                   0.001             0.663   \n",
       "\n",
       "   Elektrische geleidbaarheid [S/m]  Gecorrigeerde diepte [m]  \\\n",
       "0                               NaN                      0.00   \n",
       "1                             0.010                      0.01   \n",
       "2                             0.010                      0.03   \n",
       "3                             0.006                      0.05   \n",
       "4                             0.006                      0.07   \n",
       "\n",
       "                TESTID  Dikte [m]   AHN                    geometry  \\\n",
       "0  CPTU G20.0 + 40BITE        NaN  1.64  POINT (81527.31 425532.27)   \n",
       "1  CPTU G20.0 + 40BITE       0.01  1.63  POINT (81527.31 425532.27)   \n",
       "2  CPTU G20.0 + 40BITE       0.02  1.61  POINT (81527.31 425532.27)   \n",
       "3  CPTU G20.0 + 40BITE       0.02  1.59  POINT (81527.31 425532.27)   \n",
       "4  CPTU G20.0 + 40BITE       0.02  1.57  POINT (81527.31 425532.27)   \n",
       "\n",
       "   Helling N-Z [Graden]  Helling O-W [Graden]  \n",
       "0                   NaN                   NaN  \n",
       "1                   NaN                   NaN  \n",
       "2                   NaN                   NaN  \n",
       "3                   NaN                   NaN  \n",
       "4                   NaN                   NaN  "
      ]
     },
     "execution_count": 147,
     "metadata": {},
     "output_type": "execute_result"
    }
   ],
   "source": [
    "gdf.head()"
   ]
  },
  {
   "cell_type": "code",
   "execution_count": 150,
   "metadata": {},
   "outputs": [
    {
     "name": "stdout",
     "output_type": "stream",
     "text": [
      "Ready!\n"
     ]
    }
   ],
   "source": [
    "output_file = \"/Users/kazv/VanBovenDrive/VanBoven MT/500 Projects/P2 Wiertsema/data/GEF_output.shp\"\n",
    "output = gdf[['Sondeerlengte [m]','Gecorrigeerde conusweerstand [MPa]','Plaatselijke wrijving [MPa]','Elektrische geleidbaarheid [S/m]','Dikte [m]','AHN','geometry']]\n",
    "output.to_file(driver = 'ESRI Shapefile', filename = output_file)\n",
    "print('Ready!')"
   ]
  },
  {
   "cell_type": "code",
   "execution_count": 153,
   "metadata": {},
   "outputs": [],
   "source": [
    "test_output = output.dropna(axis=0)"
   ]
  },
  {
   "cell_type": "code",
   "execution_count": 157,
   "metadata": {},
   "outputs": [
    {
     "name": "stdout",
     "output_type": "stream",
     "text": [
      "Ready!\n"
     ]
    }
   ],
   "source": [
    "test_output.to_file(driver = 'ESRI Shapefile', filename = output_file)\n",
    "print('Ready!')"
   ]
  },
  {
   "cell_type": "code",
   "execution_count": null,
   "metadata": {},
   "outputs": [],
   "source": [
    "#gecorrigeerde conusweerstand en plaatselijke wrijvig behouden\n"
   ]
  },
  {
   "cell_type": "code",
   "execution_count": 30,
   "metadata": {},
   "outputs": [
    {
     "data": {
      "text/plain": [
       "<matplotlib.axes._subplots.AxesSubplot at 0x122713278>"
      ]
     },
     "execution_count": 30,
     "metadata": {},
     "output_type": "execute_result"
    },
    {
     "data": {
      "image/png": "[encoded data removed]",
      "text/plain": [
       "<Figure size 432x288 with 1 Axes>"
      ]
     },
     "metadata": {
      "needs_background": "light"
     },
     "output_type": "display_data"
    }
   ],
   "source": [
    "gdf['Elektrische geleidbaarheid [S/m]'][gdf['Elektrische geleidbaarheid [S/m]']>0].iloc[1:900].plot()"
   ]
  },
  {
   "cell_type": "code",
   "execution_count": 29,
   "metadata": {},
   "outputs": [
    {
     "data": {
      "text/plain": [
       "<matplotlib.axes._subplots.AxesSubplot at 0x12249acc0>"
      ]
     },
     "execution_count": 29,
     "metadata": {},
     "output_type": "execute_result"
    },
    {
     "data": {
      "image/png": "[encoded data removed]",
      "text/plain": [
       "<Figure size 432x288 with 1 Axes>"
      ]
     },
     "metadata": {
      "needs_background": "light"
     },
     "output_type": "display_data"
    }
   ],
   "source": [
    "gdf['Gecorrigeerde conusweerstand [MPa]'][gdf['Gecorrigeerde conusweerstand [MPa]']>0].iloc[1:900].plot()"
   ]
  },
  {
   "cell_type": "code",
   "execution_count": 31,
   "metadata": {},
   "outputs": [
    {
     "data": {
      "text/plain": [
       "<matplotlib.axes._subplots.AxesSubplot at 0x1228e33c8>"
      ]
     },
     "execution_count": 31,
     "metadata": {},
     "output_type": "execute_result"
    },
    {
     "data": {
      "image/png": "[encoded data removed]",
      "text/plain": [
       "<Figure size 432x288 with 1 Axes>"
      ]
     },
     "metadata": {
      "needs_background": "light"
     },
     "output_type": "display_data"
    }
   ],
   "source": [
    "gdf['Plaatselijke wrijving [MPa]'][gdf['Plaatselijke wrijving [MPa]']>0].iloc[1:900].plot()"
   ]
  },
  {
   "cell_type": "code",
   "execution_count": 32,
   "metadata": {},
   "outputs": [
    {
     "data": {
      "text/plain": [
       "<matplotlib.axes._subplots.AxesSubplot at 0x1228bfac8>"
      ]
     },
     "execution_count": 32,
     "metadata": {},
     "output_type": "execute_result"
    },
    {
     "data": {
      "image/png": "[encoded data removed]",
      "text/plain": [
       "<Figure size 432x288 with 1 Axes>"
      ]
     },
     "metadata": {
      "needs_background": "light"
     },
     "output_type": "display_data"
    }
   ],
   "source": [
    "gdf['Wrijvingsgetal [%]'][gdf['Wrijvingsgetal [%]']>0].iloc[1:900].plot()"
   ]
  },
  {
   "cell_type": "code",
   "execution_count": null,
   "metadata": {},
   "outputs": [],
   "source": []
  }
 ],
 "metadata": {
  "kernelspec": {
   "display_name": "Py Wiertsema",
   "language": "python",
   "name": "wiertsema"
  },
  "language_info": {
   "codemirror_mode": {
    "name": "ipython",
    "version": 3
   },
   "file_extension": ".py",
   "mimetype": "text/x-python",
   "name": "python",
   "nbconvert_exporter": "python",
   "pygments_lexer": "ipython3",
   "version": "3.7.3"
  }
 },
 "nbformat": 4,
 "nbformat_minor": 2
}
